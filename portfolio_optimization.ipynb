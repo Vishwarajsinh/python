{
  "nbformat": 4,
  "nbformat_minor": 0,
  "metadata": {
    "colab": {
      "name": "portfolio_optimization.ipynb",
      "provenance": [],
      "authorship_tag": "ABX9TyMPdg86kns2NsfjfSHh1rId"
    },
    "kernelspec": {
      "name": "python3",
      "display_name": "Python 3"
    },
    "accelerator": "GPU"
  },
  "cells": [
    {
      "cell_type": "code",
      "metadata": {
        "id": "nnwj1UhLQp9f",
        "colab_type": "code",
        "colab": {
          "base_uri": "https://localhost:8080/",
          "height": 72
        },
        "outputId": "02534627-af2b-4c60-e303-fc0cdaf22fa7"
      },
      "source": [
        "from pandas_datareader import data as web\n",
        "import pandas as pd\n",
        "import numpy as np\n",
        "from datetime import datetime\n",
        "import matplotlib.pyplot as plt\n",
        "from matplotlib.pyplot import figure\n",
        "plt.style.use('fivethirtyeight')"
      ],
      "execution_count": 2,
      "outputs": [
        {
          "output_type": "stream",
          "text": [
            "/usr/local/lib/python3.6/dist-packages/pandas_datareader/compat/__init__.py:7: FutureWarning: pandas.util.testing is deprecated. Use the functions in the public API at pandas.testing instead.\n",
            "  from pandas.util.testing import assert_frame_equal\n"
          ],
          "name": "stderr"
        }
      ]
    },
    {
      "cell_type": "code",
      "metadata": {
        "id": "L3hfp9smRSYX",
        "colab_type": "code",
        "colab": {}
      },
      "source": [
        "assets = ['KOTAKBANK.NS', 'ASIANPAINT.NS', 'BAJAJFINSV.NS', 'PIDILITIND.NS', 'TCS.NS']"
      ],
      "execution_count": 0,
      "outputs": []
    },
    {
      "cell_type": "code",
      "metadata": {
        "id": "lPJDLw8GSQ1d",
        "colab_type": "code",
        "colab": {}
      },
      "source": [
        "weights = np.array([0.2, 0.2, 0.2, 0.2, 0.2])"
      ],
      "execution_count": 0,
      "outputs": []
    },
    {
      "cell_type": "code",
      "metadata": {
        "id": "XSOkQsUgSb5E",
        "colab_type": "code",
        "outputId": "71572749-7d43-492b-878c-b308580d1a52",
        "colab": {
          "base_uri": "https://localhost:8080/",
          "height": 431
        }
      },
      "source": [
        "startDate = '2013-01-01'\n",
        "\n",
        "today = datetime.today().strftime('%Y-%m-%d')\n",
        "df = pd.DataFrame()\n",
        "\n",
        "for stock in assets:\n",
        "  df[stock] = web.DataReader(stock, data_source='yahoo', start = startDate, end = today)['Adj Close']\n",
        "\n",
        "df"
      ],
      "execution_count": 5,
      "outputs": [
        {
          "output_type": "execute_result",
          "data": {
            "text/html": [
              "<div>\n",
              "<style scoped>\n",
              "    .dataframe tbody tr th:only-of-type {\n",
              "        vertical-align: middle;\n",
              "    }\n",
              "\n",
              "    .dataframe tbody tr th {\n",
              "        vertical-align: top;\n",
              "    }\n",
              "\n",
              "    .dataframe thead th {\n",
              "        text-align: right;\n",
              "    }\n",
              "</style>\n",
              "<table border=\"1\" class=\"dataframe\">\n",
              "  <thead>\n",
              "    <tr style=\"text-align: right;\">\n",
              "      <th></th>\n",
              "      <th>KOTAKBANK.NS</th>\n",
              "      <th>ASIANPAINT.NS</th>\n",
              "      <th>BAJAJFINSV.NS</th>\n",
              "      <th>PIDILITIND.NS</th>\n",
              "      <th>TCS.NS</th>\n",
              "    </tr>\n",
              "    <tr>\n",
              "      <th>Date</th>\n",
              "      <th></th>\n",
              "      <th></th>\n",
              "      <th></th>\n",
              "      <th></th>\n",
              "      <th></th>\n",
              "    </tr>\n",
              "  </thead>\n",
              "  <tbody>\n",
              "    <tr>\n",
              "      <th>2013-01-01</th>\n",
              "      <td>322.542389</td>\n",
              "      <td>387.468353</td>\n",
              "      <td>904.541321</td>\n",
              "      <td>214.458023</td>\n",
              "      <td>509.679993</td>\n",
              "    </tr>\n",
              "    <tr>\n",
              "      <th>2013-01-02</th>\n",
              "      <td>325.991364</td>\n",
              "      <td>382.991852</td>\n",
              "      <td>903.201843</td>\n",
              "      <td>218.479416</td>\n",
              "      <td>509.337372</td>\n",
              "    </tr>\n",
              "    <tr>\n",
              "      <th>2013-01-03</th>\n",
              "      <td>324.998871</td>\n",
              "      <td>385.159973</td>\n",
              "      <td>907.765930</td>\n",
              "      <td>215.688065</td>\n",
              "      <td>516.312561</td>\n",
              "    </tr>\n",
              "    <tr>\n",
              "      <th>2013-01-04</th>\n",
              "      <td>322.666443</td>\n",
              "      <td>385.624298</td>\n",
              "      <td>923.343506</td>\n",
              "      <td>219.283691</td>\n",
              "      <td>523.811584</td>\n",
              "    </tr>\n",
              "    <tr>\n",
              "      <th>2013-01-07</th>\n",
              "      <td>321.798004</td>\n",
              "      <td>384.954224</td>\n",
              "      <td>910.147217</td>\n",
              "      <td>216.019272</td>\n",
              "      <td>522.057800</td>\n",
              "    </tr>\n",
              "    <tr>\n",
              "      <th>...</th>\n",
              "      <td>...</td>\n",
              "      <td>...</td>\n",
              "      <td>...</td>\n",
              "      <td>...</td>\n",
              "      <td>...</td>\n",
              "    </tr>\n",
              "    <tr>\n",
              "      <th>2020-06-08</th>\n",
              "      <td>1336.750000</td>\n",
              "      <td>1634.250000</td>\n",
              "      <td>5440.950195</td>\n",
              "      <td>1492.300049</td>\n",
              "      <td>2071.750000</td>\n",
              "    </tr>\n",
              "    <tr>\n",
              "      <th>2020-06-09</th>\n",
              "      <td>1304.150024</td>\n",
              "      <td>1642.050049</td>\n",
              "      <td>5310.799805</td>\n",
              "      <td>1467.300049</td>\n",
              "      <td>2072.050049</td>\n",
              "    </tr>\n",
              "    <tr>\n",
              "      <th>2020-06-10</th>\n",
              "      <td>1332.250000</td>\n",
              "      <td>1635.949951</td>\n",
              "      <td>5223.000000</td>\n",
              "      <td>1454.750000</td>\n",
              "      <td>2108.750000</td>\n",
              "    </tr>\n",
              "    <tr>\n",
              "      <th>2020-06-11</th>\n",
              "      <td>1298.699951</td>\n",
              "      <td>1610.599976</td>\n",
              "      <td>5158.000000</td>\n",
              "      <td>1417.300049</td>\n",
              "      <td>2067.649902</td>\n",
              "    </tr>\n",
              "    <tr>\n",
              "      <th>2020-06-12</th>\n",
              "      <td>1279.800049</td>\n",
              "      <td>1637.349976</td>\n",
              "      <td>5285.950195</td>\n",
              "      <td>1430.050049</td>\n",
              "      <td>2039.500000</td>\n",
              "    </tr>\n",
              "  </tbody>\n",
              "</table>\n",
              "<p>1830 rows × 5 columns</p>\n",
              "</div>"
            ],
            "text/plain": [
              "            KOTAKBANK.NS  ASIANPAINT.NS  ...  PIDILITIND.NS       TCS.NS\n",
              "Date                                     ...                            \n",
              "2013-01-01    322.542389     387.468353  ...     214.458023   509.679993\n",
              "2013-01-02    325.991364     382.991852  ...     218.479416   509.337372\n",
              "2013-01-03    324.998871     385.159973  ...     215.688065   516.312561\n",
              "2013-01-04    322.666443     385.624298  ...     219.283691   523.811584\n",
              "2013-01-07    321.798004     384.954224  ...     216.019272   522.057800\n",
              "...                  ...            ...  ...            ...          ...\n",
              "2020-06-08   1336.750000    1634.250000  ...    1492.300049  2071.750000\n",
              "2020-06-09   1304.150024    1642.050049  ...    1467.300049  2072.050049\n",
              "2020-06-10   1332.250000    1635.949951  ...    1454.750000  2108.750000\n",
              "2020-06-11   1298.699951    1610.599976  ...    1417.300049  2067.649902\n",
              "2020-06-12   1279.800049    1637.349976  ...    1430.050049  2039.500000\n",
              "\n",
              "[1830 rows x 5 columns]"
            ]
          },
          "metadata": {
            "tags": []
          },
          "execution_count": 5
        }
      ]
    },
    {
      "cell_type": "code",
      "metadata": {
        "id": "hj66qtbgTeP7",
        "colab_type": "code",
        "outputId": "016f301a-f9d9-4358-ff23-30b44ca301aa",
        "colab": {
          "base_uri": "https://localhost:8080/",
          "height": 612
        }
      },
      "source": [
        "title = 'Portfolio adj price history'\n",
        "my_stocks = df\n",
        "\n",
        "# Visualization\n",
        "plt.title(title)\n",
        "plt.xlabel('Date', fontsize = 14)\n",
        "plt.ylabel('Adj. Close INR(₹)', fontsize = 14)\n",
        "\n",
        "plt.rcParams['lines.linewidth'] = 1\n",
        "plt.rcParams[\"figure.figsize\"] = (16,9)\n",
        "\n",
        "#plot\n",
        "for c in my_stocks.columns.values:\n",
        "  plt.plot(my_stocks[c], label = c)\n",
        "\n",
        "plt.legend(my_stocks.columns.values, loc = 'upper left')  \n",
        "plt.show()"
      ],
      "execution_count": 7,
      "outputs": [
        {
          "output_type": "display_data",
          "data": {
            "image/png": "[encoded data removed]",
            "text/plain": [
              "<Figure size 1152x648 with 1 Axes>"
            ]
          },
          "metadata": {
            "tags": []
          }
        }
      ]
    },
    {
      "cell_type": "code",
      "metadata": {
        "id": "hWfMgNb1Uqx6",
        "colab_type": "code",
        "colab": {
          "base_uri": "https://localhost:8080/",
          "height": 431
        },
        "outputId": "60db5bcf-3094-49d4-e6c1-fad3136a293a"
      },
      "source": [
        " # daily returns\n",
        "\n",
        " returns = df.pct_change()\n",
        " returns"
      ],
      "execution_count": 8,
      "outputs": [
        {
          "output_type": "execute_result",
          "data": {
            "text/html": [
              "<div>\n",
              "<style scoped>\n",
              "    .dataframe tbody tr th:only-of-type {\n",
              "        vertical-align: middle;\n",
              "    }\n",
              "\n",
              "    .dataframe tbody tr th {\n",
              "        vertical-align: top;\n",
              "    }\n",
              "\n",
              "    .dataframe thead th {\n",
              "        text-align: right;\n",
              "    }\n",
              "</style>\n",
              "<table border=\"1\" class=\"dataframe\">\n",
              "  <thead>\n",
              "    <tr style=\"text-align: right;\">\n",
              "      <th></th>\n",
              "      <th>KOTAKBANK.NS</th>\n",
              "      <th>ASIANPAINT.NS</th>\n",
              "      <th>BAJAJFINSV.NS</th>\n",
              "      <th>PIDILITIND.NS</th>\n",
              "      <th>TCS.NS</th>\n",
              "    </tr>\n",
              "    <tr>\n",
              "      <th>Date</th>\n",
              "      <th></th>\n",
              "      <th></th>\n",
              "      <th></th>\n",
              "      <th></th>\n",
              "      <th></th>\n",
              "    </tr>\n",
              "  </thead>\n",
              "  <tbody>\n",
              "    <tr>\n",
              "      <th>2013-01-01</th>\n",
              "      <td>NaN</td>\n",
              "      <td>NaN</td>\n",
              "      <td>NaN</td>\n",
              "      <td>NaN</td>\n",
              "      <td>NaN</td>\n",
              "    </tr>\n",
              "    <tr>\n",
              "      <th>2013-01-02</th>\n",
              "      <td>0.010693</td>\n",
              "      <td>-0.011553</td>\n",
              "      <td>-0.001481</td>\n",
              "      <td>0.018751</td>\n",
              "      <td>-0.000672</td>\n",
              "    </tr>\n",
              "    <tr>\n",
              "      <th>2013-01-03</th>\n",
              "      <td>-0.003045</td>\n",
              "      <td>0.005661</td>\n",
              "      <td>0.005053</td>\n",
              "      <td>-0.012776</td>\n",
              "      <td>0.013695</td>\n",
              "    </tr>\n",
              "    <tr>\n",
              "      <th>2013-01-04</th>\n",
              "      <td>-0.007177</td>\n",
              "      <td>0.001206</td>\n",
              "      <td>0.017160</td>\n",
              "      <td>0.016670</td>\n",
              "      <td>0.014524</td>\n",
              "    </tr>\n",
              "    <tr>\n",
              "      <th>2013-01-07</th>\n",
              "      <td>-0.002691</td>\n",
              "      <td>-0.001738</td>\n",
              "      <td>-0.014292</td>\n",
              "      <td>-0.014887</td>\n",
              "      <td>-0.003348</td>\n",
              "    </tr>\n",
              "    <tr>\n",
              "      <th>...</th>\n",
              "      <td>...</td>\n",
              "      <td>...</td>\n",
              "      <td>...</td>\n",
              "      <td>...</td>\n",
              "      <td>...</td>\n",
              "    </tr>\n",
              "    <tr>\n",
              "      <th>2020-06-08</th>\n",
              "      <td>-0.000785</td>\n",
              "      <td>-0.002624</td>\n",
              "      <td>0.039063</td>\n",
              "      <td>-0.010608</td>\n",
              "      <td>0.011473</td>\n",
              "    </tr>\n",
              "    <tr>\n",
              "      <th>2020-06-09</th>\n",
              "      <td>-0.024387</td>\n",
              "      <td>0.004773</td>\n",
              "      <td>-0.023921</td>\n",
              "      <td>-0.016753</td>\n",
              "      <td>0.000145</td>\n",
              "    </tr>\n",
              "    <tr>\n",
              "      <th>2020-06-10</th>\n",
              "      <td>0.021547</td>\n",
              "      <td>-0.003715</td>\n",
              "      <td>-0.016532</td>\n",
              "      <td>-0.008553</td>\n",
              "      <td>0.017712</td>\n",
              "    </tr>\n",
              "    <tr>\n",
              "      <th>2020-06-11</th>\n",
              "      <td>-0.025183</td>\n",
              "      <td>-0.015496</td>\n",
              "      <td>-0.012445</td>\n",
              "      <td>-0.025743</td>\n",
              "      <td>-0.019490</td>\n",
              "    </tr>\n",
              "    <tr>\n",
              "      <th>2020-06-12</th>\n",
              "      <td>-0.014553</td>\n",
              "      <td>0.016609</td>\n",
              "      <td>0.024806</td>\n",
              "      <td>0.008996</td>\n",
              "      <td>-0.013614</td>\n",
              "    </tr>\n",
              "  </tbody>\n",
              "</table>\n",
              "<p>1830 rows × 5 columns</p>\n",
              "</div>"
            ],
            "text/plain": [
              "            KOTAKBANK.NS  ASIANPAINT.NS  BAJAJFINSV.NS  PIDILITIND.NS    TCS.NS\n",
              "Date                                                                           \n",
              "2013-01-01           NaN            NaN            NaN            NaN       NaN\n",
              "2013-01-02      0.010693      -0.011553      -0.001481       0.018751 -0.000672\n",
              "2013-01-03     -0.003045       0.005661       0.005053      -0.012776  0.013695\n",
              "2013-01-04     -0.007177       0.001206       0.017160       0.016670  0.014524\n",
              "2013-01-07     -0.002691      -0.001738      -0.014292      -0.014887 -0.003348\n",
              "...                  ...            ...            ...            ...       ...\n",
              "2020-06-08     -0.000785      -0.002624       0.039063      -0.010608  0.011473\n",
              "2020-06-09     -0.024387       0.004773      -0.023921      -0.016753  0.000145\n",
              "2020-06-10      0.021547      -0.003715      -0.016532      -0.008553  0.017712\n",
              "2020-06-11     -0.025183      -0.015496      -0.012445      -0.025743 -0.019490\n",
              "2020-06-12     -0.014553       0.016609       0.024806       0.008996 -0.013614\n",
              "\n",
              "[1830 rows x 5 columns]"
            ]
          },
          "metadata": {
            "tags": []
          },
          "execution_count": 8
        }
      ]
    },
    {
      "cell_type": "code",
      "metadata": {
        "id": "skqPainlI0iq",
        "colab_type": "code",
        "colab": {
          "base_uri": "https://localhost:8080/",
          "height": 195
        },
        "outputId": "10a7c6e2-da9b-4f81-ca73-4b90a9ccf808"
      },
      "source": [
        "# Create and show the annualized covariance matrix\n",
        "\n",
        "cov_matrix_annual = returns.cov() * 252\n",
        "cov_matrix_annual"
      ],
      "execution_count": 9,
      "outputs": [
        {
          "output_type": "execute_result",
          "data": {
            "text/html": [
              "<div>\n",
              "<style scoped>\n",
              "    .dataframe tbody tr th:only-of-type {\n",
              "        vertical-align: middle;\n",
              "    }\n",
              "\n",
              "    .dataframe tbody tr th {\n",
              "        vertical-align: top;\n",
              "    }\n",
              "\n",
              "    .dataframe thead th {\n",
              "        text-align: right;\n",
              "    }\n",
              "</style>\n",
              "<table border=\"1\" class=\"dataframe\">\n",
              "  <thead>\n",
              "    <tr style=\"text-align: right;\">\n",
              "      <th></th>\n",
              "      <th>KOTAKBANK.NS</th>\n",
              "      <th>ASIANPAINT.NS</th>\n",
              "      <th>BAJAJFINSV.NS</th>\n",
              "      <th>PIDILITIND.NS</th>\n",
              "      <th>TCS.NS</th>\n",
              "    </tr>\n",
              "  </thead>\n",
              "  <tbody>\n",
              "    <tr>\n",
              "      <th>KOTAKBANK.NS</th>\n",
              "      <td>0.078687</td>\n",
              "      <td>0.028308</td>\n",
              "      <td>0.035978</td>\n",
              "      <td>0.021775</td>\n",
              "      <td>0.013356</td>\n",
              "    </tr>\n",
              "    <tr>\n",
              "      <th>ASIANPAINT.NS</th>\n",
              "      <td>0.028308</td>\n",
              "      <td>0.071348</td>\n",
              "      <td>0.029231</td>\n",
              "      <td>0.031970</td>\n",
              "      <td>0.011242</td>\n",
              "    </tr>\n",
              "    <tr>\n",
              "      <th>BAJAJFINSV.NS</th>\n",
              "      <td>0.035978</td>\n",
              "      <td>0.029231</td>\n",
              "      <td>0.114231</td>\n",
              "      <td>0.028865</td>\n",
              "      <td>0.012359</td>\n",
              "    </tr>\n",
              "    <tr>\n",
              "      <th>PIDILITIND.NS</th>\n",
              "      <td>0.021775</td>\n",
              "      <td>0.031970</td>\n",
              "      <td>0.028865</td>\n",
              "      <td>0.071173</td>\n",
              "      <td>0.011786</td>\n",
              "    </tr>\n",
              "    <tr>\n",
              "      <th>TCS.NS</th>\n",
              "      <td>0.013356</td>\n",
              "      <td>0.011242</td>\n",
              "      <td>0.012359</td>\n",
              "      <td>0.011786</td>\n",
              "      <td>0.063687</td>\n",
              "    </tr>\n",
              "  </tbody>\n",
              "</table>\n",
              "</div>"
            ],
            "text/plain": [
              "               KOTAKBANK.NS  ASIANPAINT.NS  ...  PIDILITIND.NS    TCS.NS\n",
              "KOTAKBANK.NS       0.078687       0.028308  ...       0.021775  0.013356\n",
              "ASIANPAINT.NS      0.028308       0.071348  ...       0.031970  0.011242\n",
              "BAJAJFINSV.NS      0.035978       0.029231  ...       0.028865  0.012359\n",
              "PIDILITIND.NS      0.021775       0.031970  ...       0.071173  0.011786\n",
              "TCS.NS             0.013356       0.011242  ...       0.011786  0.063687\n",
              "\n",
              "[5 rows x 5 columns]"
            ]
          },
          "metadata": {
            "tags": []
          },
          "execution_count": 9
        }
      ]
    },
    {
      "cell_type": "code",
      "metadata": {
        "id": "lF6LfupQJTys",
        "colab_type": "code",
        "colab": {
          "base_uri": "https://localhost:8080/",
          "height": 34
        },
        "outputId": "a8f8ec5b-5eb6-4b8f-db79-c1ed46a80dfc"
      },
      "source": [
        "# Calculate the portfolio variance\n",
        "\n",
        "variance = np.dot(weights.T, np.dot(cov_matrix_annual, weights))\n",
        "variance"
      ],
      "execution_count": 10,
      "outputs": [
        {
          "output_type": "execute_result",
          "data": {
            "text/plain": [
              "0.033954578242956654"
            ]
          },
          "metadata": {
            "tags": []
          },
          "execution_count": 10
        }
      ]
    },
    {
      "cell_type": "code",
      "metadata": {
        "id": "I9AfUS0EJlve",
        "colab_type": "code",
        "colab": {
          "base_uri": "https://localhost:8080/",
          "height": 34
        },
        "outputId": "d4e88ea1-1b32-470c-e139-dc8c0582aa8b"
      },
      "source": [
        "# Volatility\n",
        "\n",
        "volatility = np.sqrt(variance)\n",
        "volatility"
      ],
      "execution_count": 11,
      "outputs": [
        {
          "output_type": "execute_result",
          "data": {
            "text/plain": [
              "0.18426768095072085"
            ]
          },
          "metadata": {
            "tags": []
          },
          "execution_count": 11
        }
      ]
    },
    {
      "cell_type": "code",
      "metadata": {
        "id": "0NpVxSPPJxj8",
        "colab_type": "code",
        "colab": {
          "base_uri": "https://localhost:8080/",
          "height": 34
        },
        "outputId": "8488c8af-6b72-4594-a549-28e7e08d10f8"
      },
      "source": [
        "#Calculate annual portfolio return\n",
        "\n",
        "portfolio_annual_return = np.sum(returns.mean() * weights) * 252\n",
        "portfolio_annual_return"
      ],
      "execution_count": 12,
      "outputs": [
        {
          "output_type": "execute_result",
          "data": {
            "text/plain": [
              "0.25702558162734024"
            ]
          },
          "metadata": {
            "tags": []
          },
          "execution_count": 12
        }
      ]
    },
    {
      "cell_type": "code",
      "metadata": {
        "id": "17QCz3ozKAsf",
        "colab_type": "code",
        "colab": {
          "base_uri": "https://localhost:8080/",
          "height": 70
        },
        "outputId": "e0a5ba58-5213-47b6-caff-37ad5d96be34"
      },
      "source": [
        "# Show expected annual return\n",
        "\n",
        "per_variance = str(round(variance, 2) * 100) + '%'\n",
        "per_volatility = str(round(volatility, 2) * 100) + '%'\n",
        "per_returns = str(round(portfolio_annual_return, 2) * 100) + '%'\n",
        "\n",
        "print(\"Expected annual return: \"+ per_returns)\n",
        "print(\"Annual volatility/risk: \"+ per_volatility)\n",
        "print(\"Annual variance: \"+ per_variance)"
      ],
      "execution_count": 14,
      "outputs": [
        {
          "output_type": "stream",
          "text": [
            "Expected annual return: 26.0%\n",
            "Annual volatility/risk: 18.0%\n",
            "Annual variance: 3.0%\n"
          ],
          "name": "stdout"
        }
      ]
    },
    {
      "cell_type": "code",
      "metadata": {
        "id": "s7nkVfJfKfCl",
        "colab_type": "code",
        "colab": {
          "base_uri": "https://localhost:8080/",
          "height": 334
        },
        "outputId": "afa7afc4-f70b-44f5-a1d7-1ce86aca33c2"
      },
      "source": [
        "!pip install PyPortfolioOpt"
      ],
      "execution_count": 15,
      "outputs": [
        {
          "output_type": "stream",
          "text": [
            "Collecting PyPortfolioOpt\n",
            "\u001b[?25l  Downloading https://files.pythonhosted.org/packages/8f/f5/4571e069d4870ede26995e191f2ef341329f881d7086cebea504141c79a8/PyPortfolioOpt-1.2.3-py3-none-any.whl (48kB)\n",
            "\r\u001b[K     |██████▉                         | 10kB 21.3MB/s eta 0:00:01\r\u001b[K     |█████████████▋                  | 20kB 2.1MB/s eta 0:00:01\r\u001b[K     |████████████████████▍           | 30kB 2.8MB/s eta 0:00:01\r\u001b[K     |███████████████████████████▏    | 40kB 3.0MB/s eta 0:00:01\r\u001b[K     |████████████████████████████████| 51kB 1.9MB/s \n",
            "\u001b[?25hRequirement already satisfied: cvxpy<1.1,>=1.0 in /usr/local/lib/python3.6/dist-packages (from PyPortfolioOpt) (1.0.31)\n",
            "Requirement already satisfied: pandas>=0.19 in /usr/local/lib/python3.6/dist-packages (from PyPortfolioOpt) (1.0.4)\n",
            "Requirement already satisfied: scipy<2.0,>=1.3 in /usr/local/lib/python3.6/dist-packages (from PyPortfolioOpt) (1.4.1)\n",
            "Requirement already satisfied: numpy<2.0,>=1.12 in /usr/local/lib/python3.6/dist-packages (from PyPortfolioOpt) (1.18.5)\n",
            "Requirement already satisfied: multiprocess in /usr/local/lib/python3.6/dist-packages (from cvxpy<1.1,>=1.0->PyPortfolioOpt) (0.70.9)\n",
            "Requirement already satisfied: ecos>=2 in /usr/local/lib/python3.6/dist-packages (from cvxpy<1.1,>=1.0->PyPortfolioOpt) (2.0.7.post1)\n",
            "Requirement already satisfied: scs>=1.1.3 in /usr/local/lib/python3.6/dist-packages (from cvxpy<1.1,>=1.0->PyPortfolioOpt) (2.1.2)\n",
            "Requirement already satisfied: osqp>=0.4.1 in /usr/local/lib/python3.6/dist-packages (from cvxpy<1.1,>=1.0->PyPortfolioOpt) (0.6.1)\n",
            "Requirement already satisfied: pytz>=2017.2 in /usr/local/lib/python3.6/dist-packages (from pandas>=0.19->PyPortfolioOpt) (2018.9)\n",
            "Requirement already satisfied: python-dateutil>=2.6.1 in /usr/local/lib/python3.6/dist-packages (from pandas>=0.19->PyPortfolioOpt) (2.8.1)\n",
            "Requirement already satisfied: dill>=0.3.1 in /usr/local/lib/python3.6/dist-packages (from multiprocess->cvxpy<1.1,>=1.0->PyPortfolioOpt) (0.3.1.1)\n",
            "Requirement already satisfied: future in /usr/local/lib/python3.6/dist-packages (from osqp>=0.4.1->cvxpy<1.1,>=1.0->PyPortfolioOpt) (0.16.0)\n",
            "Requirement already satisfied: six>=1.5 in /usr/local/lib/python3.6/dist-packages (from python-dateutil>=2.6.1->pandas>=0.19->PyPortfolioOpt) (1.12.0)\n",
            "Installing collected packages: PyPortfolioOpt\n",
            "Successfully installed PyPortfolioOpt-1.2.3\n"
          ],
          "name": "stdout"
        }
      ]
    },
    {
      "cell_type": "code",
      "metadata": {
        "id": "MLlrbRcwLL9S",
        "colab_type": "code",
        "colab": {}
      },
      "source": [
        "from pypfopt.efficient_frontier import EfficientFrontier\n",
        "from pypfopt import risk_models\n",
        "from pypfopt import expected_returns"
      ],
      "execution_count": 0,
      "outputs": []
    },
    {
      "cell_type": "code",
      "metadata": {
        "id": "ENtmyWXbMI7c",
        "colab_type": "code",
        "colab": {
          "base_uri": "https://localhost:8080/",
          "height": 105
        },
        "outputId": "b15fa36d-29b6-4ed9-8b76-ef113288c8e5"
      },
      "source": [
        "# portfolio optimization\n",
        "\n",
        "# Calculate expected return and annualized co-variance matrix\n",
        "mu = expected_returns.mean_historical_return(df)\n",
        "S = risk_models.sample_cov(df)\n",
        "\n",
        "# Optimize for max sharpe ratio \n",
        "ef = EfficientFrontier(mu, S)\n",
        "weights = ef.max_sharpe()\n",
        "cleaned_weights = ef.clean_weights()\n",
        "print(cleaned_weights)\n",
        "\n",
        "ef.portfolio_performance(verbose = True)"
      ],
      "execution_count": 18,
      "outputs": [
        {
          "output_type": "stream",
          "text": [
            "OrderedDict([('KOTAKBANK.NS', 0.10841), ('ASIANPAINT.NS', 0.10241), ('BAJAJFINSV.NS', 0.15597), ('PIDILITIND.NS', 0.33508), ('TCS.NS', 0.29813)])\n",
            "Expected annual return: 26.2%\n",
            "Annual volatility: 18.1%\n",
            "Sharpe Ratio: 1.34\n"
          ],
          "name": "stdout"
        },
        {
          "output_type": "execute_result",
          "data": {
            "text/plain": [
              "(0.2619075465748254, 0.18091402457587674, 1.3371409272550205)"
            ]
          },
          "metadata": {
            "tags": []
          },
          "execution_count": 18
        }
      ]
    },
    {
      "cell_type": "code",
      "metadata": {
        "id": "Tbe18PaxPnfB",
        "colab_type": "code",
        "colab": {}
      },
      "source": [
        "# Discrete allocation of each share per stock\n",
        "from pypfopt.discrete_allocation import DiscreteAllocation, get_latest_prices\n",
        "\n",
        "latest_prices = get_latest_prices(df)\n",
        "weights = cleaned_weights\n",
        "da = DiscreteAllocation(weights, latest_prices, total_portfolio_value = 20000)"
      ],
      "execution_count": 0,
      "outputs": []
    },
    {
      "cell_type": "code",
      "metadata": {
        "id": "z5X5WlNRR6ru",
        "colab_type": "code",
        "colab": {}
      },
      "source": [
        "allocation , leftover = da.lp_portfolio()"
      ],
      "execution_count": 0,
      "outputs": []
    },
    {
      "cell_type": "code",
      "metadata": {
        "id": "pVnzMcY7SHWy",
        "colab_type": "code",
        "colab": {
          "base_uri": "https://localhost:8080/",
          "height": 34
        },
        "outputId": "9cac3bdb-f85c-4709-a1e7-b16010a535c4"
      },
      "source": [
        "print(\"Descrete allocation:\", allocation)"
      ],
      "execution_count": 25,
      "outputs": [
        {
          "output_type": "stream",
          "text": [
            "Descrete allocation: {'KOTAKBANK.NS': 2.0, 'ASIANPAINT.NS': 1.0, 'BAJAJFINSV.NS': 1.0, 'PIDILITIND.NS': 3.0, 'TCS.NS': 3.0}\n"
          ],
          "name": "stdout"
        }
      ]
    },
    {
      "cell_type": "code",
      "metadata": {
        "id": "yk-HuO5LS6u1",
        "colab_type": "code",
        "colab": {
          "base_uri": "https://localhost:8080/",
          "height": 34
        },
        "outputId": "b3409667-de16-435a-bb9a-3aa940166b19"
      },
      "source": [
        "print(\"Fund remaining: ₹{:.2f}\".format(leftover))"
      ],
      "execution_count": 26,
      "outputs": [
        {
          "output_type": "stream",
          "text": [
            "Fund remaining: ₹108.45\n"
          ],
          "name": "stdout"
        }
      ]
    }
  ]
}