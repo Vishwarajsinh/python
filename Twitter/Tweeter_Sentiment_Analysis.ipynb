{
  "nbformat": 4,
  "nbformat_minor": 0,
  "metadata": {
    "colab": {
      "name": "Tweeter_Sentiment_Analysis.ipynb",
      "provenance": []
    },
    "kernelspec": {
      "name": "python3",
      "display_name": "Python 3"
    }
  },
  "cells": [
    {
      "cell_type": "code",
      "metadata": {
        "id": "pS4Cs0Yn3CDC",
        "colab_type": "code",
        "colab": {}
      },
      "source": [
        "#Description: This is a sentiment analysis machine learning model that parses the tweets fetched from twitter using Python."
      ],
      "execution_count": 0,
      "outputs": []
    },
    {
      "cell_type": "code",
      "metadata": {
        "id": "_9DicwYY3QIQ",
        "colab_type": "code",
        "outputId": "7dc2475d-d9e4-48b0-c556-e87198fe6adb",
        "colab": {
          "base_uri": "https://localhost:8080/",
          "height": 34
        }
      },
      "source": [
        "!pip install twitter\n",
        "# import the libraries\n",
        "import twitter\n",
        "import tweepy\n",
        "from textblob import TextBlob\n",
        "from wordcloud import WordCloud \n",
        "import pandas as pd\n",
        "import numpy as np\n",
        "import re \n",
        "import matplotlib.pyplot as plt\n",
        "plt.style.use('fivethirtyeight')   "
      ],
      "execution_count": 2,
      "outputs": [
        {
          "output_type": "stream",
          "text": [
            "Requirement already satisfied: twitter in /usr/local/lib/python3.6/dist-packages (1.18.0)\n"
          ],
          "name": "stdout"
        }
      ]
    },
    {
      "cell_type": "code",
      "metadata": {
        "id": "BY9i_oza44im",
        "colab_type": "code",
        "colab": {}
      },
      "source": [
        "# Twitter API credentials\n",
        "consumer_key = \"xxx\" \n",
        "consumer_secret = \"xxx\"\n",
        "access_key = \"xxx\"\n",
        "access_secret = \"xxx\""
      ],
      "execution_count": 0,
      "outputs": []
    },
    {
      "cell_type": "code",
      "metadata": {
        "id": "e8f4rsHRCERp",
        "colab_type": "code",
        "colab": {}
      },
      "source": [
        "# # Function to extract tweets \n",
        "# def get_tweets(username): \n",
        "          \n",
        "#         # Authorization to consumer key and consumer secret \n",
        "#         auth = tweepy.OAuthHandler(consumer_key, consumer_secret) \n",
        "  \n",
        "#         # Access to user's access key and access secret \n",
        "#         auth.set_access_token(access_key, access_secret) \n",
        "  \n",
        "#         # Calling api \n",
        "#         api = tweepy.API(auth) \n",
        "  \n",
        "#         # 200 tweets to be extracted \n",
        "#         number_of_tweets=200\n",
        "#         tweets = api.user_timeline(screen_name=username) \n",
        "  \n",
        "#         # Empty Array \n",
        "#         tmp=[]  \n",
        "  \n",
        "#         # create array of tweet information: username,  \n",
        "#         # tweet id, date/time, text \n",
        "#         tweets_for_csv = [tweet.text for tweet in tweets] # CSV file created  \n",
        "#         for j in tweets_for_csv: \n",
        "  \n",
        "#             # Appending tweets to the empty array tmp \n",
        "#             tmp.append(j)  \n",
        "  \n",
        "#         # Printing the tweets \n",
        "#         print(tmp[:5])\n",
        "\n",
        "# get_tweets(\"narendramodi\")"
      ],
      "execution_count": 0,
      "outputs": []
    },
    {
      "cell_type": "code",
      "metadata": {
        "id": "d4hVubd95yVT",
        "colab_type": "code",
        "colab": {}
      },
      "source": [
        "# Create the authentication object\n",
        "authenticate = tweepy.OAuthHandler(consumer_key, consumer_secret)\n",
        "\n",
        "# Set the access token and access token secret\n",
        "authenticate.set_access_token(access_key, access_secret)\n",
        "\n",
        "# Create the API object while passing in the auth information\n",
        "api = tweepy.API(authenticate)"
      ],
      "execution_count": 0,
      "outputs": []
    },
    {
      "cell_type": "code",
      "metadata": {
        "id": "J35JdWcN6_7j",
        "colab_type": "code",
        "outputId": "687a7b95-de63-4930-a79b-a95a7f377381",
        "colab": {
          "base_uri": "https://localhost:8080/",
          "height": 424
        }
      },
      "source": [
        "# Extract 100 tweets from the twitter user\n",
        "posts = api.user_timeline(screen_name = 'narendramodi', count = 500, lang = \"en\", tweet_mode = \"extended\")\n",
        "\n",
        "# Print last 5 tweets from the account\n",
        "print(\"Show 5 recent tweets:\\n\")\n",
        "i = 1\n",
        "for tweet in posts[0:5]:\n",
        "  print(str(i) + ') ' + tweet.full_text + '\\n')\n",
        "  i += 1"
      ],
      "execution_count": 6,
      "outputs": [
        {
          "output_type": "stream",
          "text": [
            "Show 5 recent tweets:\n",
            "\n",
            "1) Always better to take that extra precaution. Will help you and those around you.\n",
            "\n",
            "I commend the @timesofindia group for this very innovative movement. #IndiaFightsCorona https://t.co/vB8twfbyii\n",
            "\n",
            "2) Outstanding gesture by the @DalmiaBharat Group. Every contribution matters and will lead to a healthier India. #IndiaFightsCorona https://t.co/rZ8R4XpACz\n",
            "\n",
            "3) I appreciate the Zee Group for contributing to PM-CARES. This will make our fight against COVID-19 even stronger. #IndiaFightsCorona https://t.co/TDA4BuvHWr\n",
            "\n",
            "4) फिर मुस्कुराएगा इंडिया...\n",
            "\n",
            "फिर जीत जाएगा इंडिया...\n",
            "\n",
            "India will fight. India will win! \n",
            "\n",
            "Good initiative by our film fraternity. \n",
            "\n",
            "https://t.co/utUGm9ObhI\n",
            "\n",
            "5) This #WorldHealthDay, let us also ensure we follow practices like social distancing which will protect our own lives as well as the lives of others. May this day also inspire us towards focusing on personal fitness through the year, which would help improve our overall health.\n",
            "\n"
          ],
          "name": "stdout"
        }
      ]
    },
    {
      "cell_type": "code",
      "metadata": {
        "id": "E19lWLiB9SAn",
        "colab_type": "code",
        "outputId": "d634b81f-83bd-49d4-ba15-41c5debfe342",
        "colab": {
          "base_uri": "https://localhost:8080/",
          "height": 195
        }
      },
      "source": [
        "# Create dataframe with a column called Tweets\n",
        "df = pd.DataFrame([tweet.full_text for tweet in posts], columns = ['Tweets'])\n",
        "\n",
        "# Show the first 5 rows of data\n",
        "df.head()"
      ],
      "execution_count": 7,
      "outputs": [
        {
          "output_type": "execute_result",
          "data": {
            "text/html": [
              "<div>\n",
              "<style scoped>\n",
              "    .dataframe tbody tr th:only-of-type {\n",
              "        vertical-align: middle;\n",
              "    }\n",
              "\n",
              "    .dataframe tbody tr th {\n",
              "        vertical-align: top;\n",
              "    }\n",
              "\n",
              "    .dataframe thead th {\n",
              "        text-align: right;\n",
              "    }\n",
              "</style>\n",
              "<table border=\"1\" class=\"dataframe\">\n",
              "  <thead>\n",
              "    <tr style=\"text-align: right;\">\n",
              "      <th></th>\n",
              "      <th>Tweets</th>\n",
              "    </tr>\n",
              "  </thead>\n",
              "  <tbody>\n",
              "    <tr>\n",
              "      <th>0</th>\n",
              "      <td>Always better to take that extra precaution. W...</td>\n",
              "    </tr>\n",
              "    <tr>\n",
              "      <th>1</th>\n",
              "      <td>Outstanding gesture by the @DalmiaBharat Group...</td>\n",
              "    </tr>\n",
              "    <tr>\n",
              "      <th>2</th>\n",
              "      <td>I appreciate the Zee Group for contributing to...</td>\n",
              "    </tr>\n",
              "    <tr>\n",
              "      <th>3</th>\n",
              "      <td>फिर मुस्कुराएगा इंडिया...\\n\\nफिर जीत जाएगा इंड...</td>\n",
              "    </tr>\n",
              "    <tr>\n",
              "      <th>4</th>\n",
              "      <td>This #WorldHealthDay, let us also ensure we fo...</td>\n",
              "    </tr>\n",
              "  </tbody>\n",
              "</table>\n",
              "</div>"
            ],
            "text/plain": [
              "                                              Tweets\n",
              "0  Always better to take that extra precaution. W...\n",
              "1  Outstanding gesture by the @DalmiaBharat Group...\n",
              "2  I appreciate the Zee Group for contributing to...\n",
              "3  फिर मुस्कुराएगा इंडिया...\\n\\nफिर जीत जाएगा इंड...\n",
              "4  This #WorldHealthDay, let us also ensure we fo..."
            ]
          },
          "metadata": {
            "tags": []
          },
          "execution_count": 7
        }
      ]
    },
    {
      "cell_type": "code",
      "metadata": {
        "id": "V460EVYCEx-Z",
        "colab_type": "code",
        "colab": {}
      },
      "source": [
        "# Clean the text\n",
        "\n",
        "# Create a function to clean the text\n",
        "def cleanText(text):\n",
        "  text = re.sub(r'@[A-Za-z0-9]+', '', text) #Remove mentions\n",
        "  text = re.sub(r'#', '', text) #Remove hashtags\n",
        "  text = re.sub(r'RT[\\s]+', '', text) #Remove retweets\n",
        "  text = re.sub(r'https?:\\/\\/S+', '', text) #Remove hyperlinks\n",
        "  text = re.sub(r'http?:\\/\\/S+', '', text) #Remove hyperlinks\n",
        "\n",
        "  return text"
      ],
      "execution_count": 0,
      "outputs": []
    },
    {
      "cell_type": "code",
      "metadata": {
        "id": "w2btmgkwO2Ec",
        "colab_type": "code",
        "outputId": "a25cffd7-c552-4e69-a803-edc92be92de8",
        "colab": {
          "base_uri": "https://localhost:8080/",
          "height": 402
        }
      },
      "source": [
        "# Cleaning the text\n",
        "df['Tweets'] = df['Tweets'].apply(cleanText)\n",
        "\n",
        "# Show cleaned text\n",
        "df"
      ],
      "execution_count": 9,
      "outputs": [
        {
          "output_type": "execute_result",
          "data": {
            "text/html": [
              "<div>\n",
              "<style scoped>\n",
              "    .dataframe tbody tr th:only-of-type {\n",
              "        vertical-align: middle;\n",
              "    }\n",
              "\n",
              "    .dataframe tbody tr th {\n",
              "        vertical-align: top;\n",
              "    }\n",
              "\n",
              "    .dataframe thead th {\n",
              "        text-align: right;\n",
              "    }\n",
              "</style>\n",
              "<table border=\"1\" class=\"dataframe\">\n",
              "  <thead>\n",
              "    <tr style=\"text-align: right;\">\n",
              "      <th></th>\n",
              "      <th>Tweets</th>\n",
              "    </tr>\n",
              "  </thead>\n",
              "  <tbody>\n",
              "    <tr>\n",
              "      <th>0</th>\n",
              "      <td>Always better to take that extra precaution. W...</td>\n",
              "    </tr>\n",
              "    <tr>\n",
              "      <th>1</th>\n",
              "      <td>Outstanding gesture by the  Group. Every contr...</td>\n",
              "    </tr>\n",
              "    <tr>\n",
              "      <th>2</th>\n",
              "      <td>I appreciate the Zee Group for contributing to...</td>\n",
              "    </tr>\n",
              "    <tr>\n",
              "      <th>3</th>\n",
              "      <td>फिर मुस्कुराएगा इंडिया...\\n\\nफिर जीत जाएगा इंड...</td>\n",
              "    </tr>\n",
              "    <tr>\n",
              "      <th>4</th>\n",
              "      <td>This WorldHealthDay, let us also ensure we fol...</td>\n",
              "    </tr>\n",
              "    <tr>\n",
              "      <th>...</th>\n",
              "      <td>...</td>\n",
              "    </tr>\n",
              "    <tr>\n",
              "      <th>195</th>\n",
              "      <td>It is our firm resolve that the poor and vulne...</td>\n",
              "    </tr>\n",
              "    <tr>\n",
              "      <th>196</th>\n",
              "      <td>Cheti Chand greetings to everyone, especially ...</td>\n",
              "    </tr>\n",
              "    <tr>\n",
              "      <th>197</th>\n",
              "      <td>Trust India’s youth to show the way when it co...</td>\n",
              "    </tr>\n",
              "    <tr>\n",
              "      <th>198</th>\n",
              "      <td>इन माताओं का आशीर्वाद ही मेरे लिए प्रेरणा और क...</td>\n",
              "    </tr>\n",
              "    <tr>\n",
              "      <th>199</th>\n",
              "      <td>Sanjay Goradia has a wise message. \\n\\nThose w...</td>\n",
              "    </tr>\n",
              "  </tbody>\n",
              "</table>\n",
              "<p>200 rows × 1 columns</p>\n",
              "</div>"
            ],
            "text/plain": [
              "                                                Tweets\n",
              "0    Always better to take that extra precaution. W...\n",
              "1    Outstanding gesture by the  Group. Every contr...\n",
              "2    I appreciate the Zee Group for contributing to...\n",
              "3    फिर मुस्कुराएगा इंडिया...\\n\\nफिर जीत जाएगा इंड...\n",
              "4    This WorldHealthDay, let us also ensure we fol...\n",
              "..                                                 ...\n",
              "195  It is our firm resolve that the poor and vulne...\n",
              "196  Cheti Chand greetings to everyone, especially ...\n",
              "197  Trust India’s youth to show the way when it co...\n",
              "198  इन माताओं का आशीर्वाद ही मेरे लिए प्रेरणा और क...\n",
              "199  Sanjay Goradia has a wise message. \\n\\nThose w...\n",
              "\n",
              "[200 rows x 1 columns]"
            ]
          },
          "metadata": {
            "tags": []
          },
          "execution_count": 9
        }
      ]
    },
    {
      "cell_type": "code",
      "metadata": {
        "id": "s35XNBZiPJKH",
        "colab_type": "code",
        "outputId": "44d3504c-24f4-4c47-d099-f31e9602ceb9",
        "colab": {
          "base_uri": "https://localhost:8080/",
          "height": 402
        }
      },
      "source": [
        "# Create a function to get the subjectivity\n",
        "def getSubjectivity(text):\n",
        "  return TextBlob(text).sentiment.subjectivity\n",
        "\n",
        "# Create a function to get the polarity\n",
        "def getPolarity(text):\n",
        "  return TextBlob(text).sentiment.polarity\n",
        "\n",
        "# Create two new columns for Subjectivity and Polarity\n",
        "df['Subjectivity'] = df['Tweets'].apply(getSubjectivity)\n",
        "df['Polarity'] = df['Tweets'].apply(getPolarity)\n",
        "\n",
        "# Show new dataframe\n",
        "df"
      ],
      "execution_count": 10,
      "outputs": [
        {
          "output_type": "execute_result",
          "data": {
            "text/html": [
              "<div>\n",
              "<style scoped>\n",
              "    .dataframe tbody tr th:only-of-type {\n",
              "        vertical-align: middle;\n",
              "    }\n",
              "\n",
              "    .dataframe tbody tr th {\n",
              "        vertical-align: top;\n",
              "    }\n",
              "\n",
              "    .dataframe thead th {\n",
              "        text-align: right;\n",
              "    }\n",
              "</style>\n",
              "<table border=\"1\" class=\"dataframe\">\n",
              "  <thead>\n",
              "    <tr style=\"text-align: right;\">\n",
              "      <th></th>\n",
              "      <th>Tweets</th>\n",
              "      <th>Subjectivity</th>\n",
              "      <th>Polarity</th>\n",
              "    </tr>\n",
              "  </thead>\n",
              "  <tbody>\n",
              "    <tr>\n",
              "      <th>0</th>\n",
              "      <td>Always better to take that extra precaution. W...</td>\n",
              "      <td>0.533333</td>\n",
              "      <td>0.383333</td>\n",
              "    </tr>\n",
              "    <tr>\n",
              "      <th>1</th>\n",
              "      <td>Outstanding gesture by the  Group. Every contr...</td>\n",
              "      <td>0.875000</td>\n",
              "      <td>0.500000</td>\n",
              "    </tr>\n",
              "    <tr>\n",
              "      <th>2</th>\n",
              "      <td>I appreciate the Zee Group for contributing to...</td>\n",
              "      <td>0.000000</td>\n",
              "      <td>0.000000</td>\n",
              "    </tr>\n",
              "    <tr>\n",
              "      <th>3</th>\n",
              "      <td>फिर मुस्कुराएगा इंडिया...\\n\\nफिर जीत जाएगा इंड...</td>\n",
              "      <td>0.500000</td>\n",
              "      <td>0.850000</td>\n",
              "    </tr>\n",
              "    <tr>\n",
              "      <th>4</th>\n",
              "      <td>This WorldHealthDay, let us also ensure we fol...</td>\n",
              "      <td>0.341667</td>\n",
              "      <td>0.158333</td>\n",
              "    </tr>\n",
              "    <tr>\n",
              "      <th>...</th>\n",
              "      <td>...</td>\n",
              "      <td>...</td>\n",
              "      <td>...</td>\n",
              "    </tr>\n",
              "    <tr>\n",
              "      <th>195</th>\n",
              "      <td>It is our firm resolve that the poor and vulne...</td>\n",
              "      <td>0.580000</td>\n",
              "      <td>-0.230000</td>\n",
              "    </tr>\n",
              "    <tr>\n",
              "      <th>196</th>\n",
              "      <td>Cheti Chand greetings to everyone, especially ...</td>\n",
              "      <td>0.592857</td>\n",
              "      <td>0.439286</td>\n",
              "    </tr>\n",
              "    <tr>\n",
              "      <th>197</th>\n",
              "      <td>Trust India’s youth to show the way when it co...</td>\n",
              "      <td>0.000000</td>\n",
              "      <td>0.000000</td>\n",
              "    </tr>\n",
              "    <tr>\n",
              "      <th>198</th>\n",
              "      <td>इन माताओं का आशीर्वाद ही मेरे लिए प्रेरणा और क...</td>\n",
              "      <td>0.000000</td>\n",
              "      <td>0.000000</td>\n",
              "    </tr>\n",
              "    <tr>\n",
              "      <th>199</th>\n",
              "      <td>Sanjay Goradia has a wise message. \\n\\nThose w...</td>\n",
              "      <td>0.900000</td>\n",
              "      <td>0.875000</td>\n",
              "    </tr>\n",
              "  </tbody>\n",
              "</table>\n",
              "<p>200 rows × 3 columns</p>\n",
              "</div>"
            ],
            "text/plain": [
              "                                                Tweets  Subjectivity  Polarity\n",
              "0    Always better to take that extra precaution. W...      0.533333  0.383333\n",
              "1    Outstanding gesture by the  Group. Every contr...      0.875000  0.500000\n",
              "2    I appreciate the Zee Group for contributing to...      0.000000  0.000000\n",
              "3    फिर मुस्कुराएगा इंडिया...\\n\\nफिर जीत जाएगा इंड...      0.500000  0.850000\n",
              "4    This WorldHealthDay, let us also ensure we fol...      0.341667  0.158333\n",
              "..                                                 ...           ...       ...\n",
              "195  It is our firm resolve that the poor and vulne...      0.580000 -0.230000\n",
              "196  Cheti Chand greetings to everyone, especially ...      0.592857  0.439286\n",
              "197  Trust India’s youth to show the way when it co...      0.000000  0.000000\n",
              "198  इन माताओं का आशीर्वाद ही मेरे लिए प्रेरणा और क...      0.000000  0.000000\n",
              "199  Sanjay Goradia has a wise message. \\n\\nThose w...      0.900000  0.875000\n",
              "\n",
              "[200 rows x 3 columns]"
            ]
          },
          "metadata": {
            "tags": []
          },
          "execution_count": 10
        }
      ]
    },
    {
      "cell_type": "code",
      "metadata": {
        "id": "CDAJMq-jQLJH",
        "colab_type": "code",
        "outputId": "a97dd134-0399-4595-9ad4-ec742962a0b9",
        "colab": {
          "base_uri": "https://localhost:8080/",
          "height": 256
        }
      },
      "source": [
        "# Plot The word cloud \n",
        "allWords = ' '.join( [twts for twts in df['Tweets']] )\n",
        "wordCloud = WordCloud(width = 1000, height = 600, random_state = 21, max_font_size = 119).generate(allWords) \n",
        "\n",
        "plt.imshow(wordCloud, interpolation = \"bilinear\")\n",
        "plt.axis('off')\n",
        "plt.show()"
      ],
      "execution_count": 11,
      "outputs": [
        {
          "output_type": "display_data",
          "data": {
            "image/png": "[encoded data removed]",
            "text/plain": [
              "<Figure size 432x288 with 1 Axes>"
            ]
          },
          "metadata": {
            "tags": []
          }
        }
      ]
    },
    {
      "cell_type": "code",
      "metadata": {
        "id": "dXWqjtrjR9tu",
        "colab_type": "code",
        "colab": {
          "base_uri": "https://localhost:8080/",
          "height": 402
        },
        "outputId": "208e7a11-f6b5-46b4-96c2-c25a8a1eb5c9"
      },
      "source": [
        "# Create a function to compute negative (-1), neutral (0) and positive (+1) analysis\n",
        "def getAnalysis(score):\n",
        " if score < 0:\n",
        "  return 'Negative'\n",
        " elif score == 0:\n",
        "  return 'Neutral'\n",
        " else:\n",
        "  return 'Positive'\n",
        "\n",
        "\n",
        "df['Analysis'] = df['Polarity'].apply(getAnalysis)\n",
        "\n",
        "# Show the dataframe\n",
        "df"
      ],
      "execution_count": 12,
      "outputs": [
        {
          "output_type": "execute_result",
          "data": {
            "text/html": [
              "<div>\n",
              "<style scoped>\n",
              "    .dataframe tbody tr th:only-of-type {\n",
              "        vertical-align: middle;\n",
              "    }\n",
              "\n",
              "    .dataframe tbody tr th {\n",
              "        vertical-align: top;\n",
              "    }\n",
              "\n",
              "    .dataframe thead th {\n",
              "        text-align: right;\n",
              "    }\n",
              "</style>\n",
              "<table border=\"1\" class=\"dataframe\">\n",
              "  <thead>\n",
              "    <tr style=\"text-align: right;\">\n",
              "      <th></th>\n",
              "      <th>Tweets</th>\n",
              "      <th>Subjectivity</th>\n",
              "      <th>Polarity</th>\n",
              "      <th>Analysis</th>\n",
              "    </tr>\n",
              "  </thead>\n",
              "  <tbody>\n",
              "    <tr>\n",
              "      <th>0</th>\n",
              "      <td>Always better to take that extra precaution. W...</td>\n",
              "      <td>0.533333</td>\n",
              "      <td>0.383333</td>\n",
              "      <td>Positive</td>\n",
              "    </tr>\n",
              "    <tr>\n",
              "      <th>1</th>\n",
              "      <td>Outstanding gesture by the  Group. Every contr...</td>\n",
              "      <td>0.875000</td>\n",
              "      <td>0.500000</td>\n",
              "      <td>Positive</td>\n",
              "    </tr>\n",
              "    <tr>\n",
              "      <th>2</th>\n",
              "      <td>I appreciate the Zee Group for contributing to...</td>\n",
              "      <td>0.000000</td>\n",
              "      <td>0.000000</td>\n",
              "      <td>Neutral</td>\n",
              "    </tr>\n",
              "    <tr>\n",
              "      <th>3</th>\n",
              "      <td>फिर मुस्कुराएगा इंडिया...\\n\\nफिर जीत जाएगा इंड...</td>\n",
              "      <td>0.500000</td>\n",
              "      <td>0.850000</td>\n",
              "      <td>Positive</td>\n",
              "    </tr>\n",
              "    <tr>\n",
              "      <th>4</th>\n",
              "      <td>This WorldHealthDay, let us also ensure we fol...</td>\n",
              "      <td>0.341667</td>\n",
              "      <td>0.158333</td>\n",
              "      <td>Positive</td>\n",
              "    </tr>\n",
              "    <tr>\n",
              "      <th>...</th>\n",
              "      <td>...</td>\n",
              "      <td>...</td>\n",
              "      <td>...</td>\n",
              "      <td>...</td>\n",
              "    </tr>\n",
              "    <tr>\n",
              "      <th>195</th>\n",
              "      <td>It is our firm resolve that the poor and vulne...</td>\n",
              "      <td>0.580000</td>\n",
              "      <td>-0.230000</td>\n",
              "      <td>Negative</td>\n",
              "    </tr>\n",
              "    <tr>\n",
              "      <th>196</th>\n",
              "      <td>Cheti Chand greetings to everyone, especially ...</td>\n",
              "      <td>0.592857</td>\n",
              "      <td>0.439286</td>\n",
              "      <td>Positive</td>\n",
              "    </tr>\n",
              "    <tr>\n",
              "      <th>197</th>\n",
              "      <td>Trust India’s youth to show the way when it co...</td>\n",
              "      <td>0.000000</td>\n",
              "      <td>0.000000</td>\n",
              "      <td>Neutral</td>\n",
              "    </tr>\n",
              "    <tr>\n",
              "      <th>198</th>\n",
              "      <td>इन माताओं का आशीर्वाद ही मेरे लिए प्रेरणा और क...</td>\n",
              "      <td>0.000000</td>\n",
              "      <td>0.000000</td>\n",
              "      <td>Neutral</td>\n",
              "    </tr>\n",
              "    <tr>\n",
              "      <th>199</th>\n",
              "      <td>Sanjay Goradia has a wise message. \\n\\nThose w...</td>\n",
              "      <td>0.900000</td>\n",
              "      <td>0.875000</td>\n",
              "      <td>Positive</td>\n",
              "    </tr>\n",
              "  </tbody>\n",
              "</table>\n",
              "<p>200 rows × 4 columns</p>\n",
              "</div>"
            ],
            "text/plain": [
              "                                                Tweets  ...  Analysis\n",
              "0    Always better to take that extra precaution. W...  ...  Positive\n",
              "1    Outstanding gesture by the  Group. Every contr...  ...  Positive\n",
              "2    I appreciate the Zee Group for contributing to...  ...   Neutral\n",
              "3    फिर मुस्कुराएगा इंडिया...\\n\\nफिर जीत जाएगा इंड...  ...  Positive\n",
              "4    This WorldHealthDay, let us also ensure we fol...  ...  Positive\n",
              "..                                                 ...  ...       ...\n",
              "195  It is our firm resolve that the poor and vulne...  ...  Negative\n",
              "196  Cheti Chand greetings to everyone, especially ...  ...  Positive\n",
              "197  Trust India’s youth to show the way when it co...  ...   Neutral\n",
              "198  इन माताओं का आशीर्वाद ही मेरे लिए प्रेरणा और क...  ...   Neutral\n",
              "199  Sanjay Goradia has a wise message. \\n\\nThose w...  ...  Positive\n",
              "\n",
              "[200 rows x 4 columns]"
            ]
          },
          "metadata": {
            "tags": []
          },
          "execution_count": 12
        }
      ]
    },
    {
      "cell_type": "code",
      "metadata": {
        "id": "UnaYf3AyWy6V",
        "colab_type": "code",
        "colab": {
          "base_uri": "https://localhost:8080/",
          "height": 1000
        },
        "outputId": "227e691d-df4f-41c4-c652-a5f14fd79f6d"
      },
      "source": [
        "# Printing positive tweets \n",
        "print('Printing positive tweets:\\n')\n",
        "j=1\n",
        "sortedDF = df.sort_values(by=['Polarity']) #Sort the tweets\n",
        "for i in range(0, sortedDF.shape[0] ):\n",
        "  if( sortedDF['Analysis'][i] == 'Positive'):\n",
        "    print(str(j) + ') '+ sortedDF['Tweets'][i])\n",
        "    print()\n",
        "    j= j+1"
      ],
      "execution_count": 13,
      "outputs": [
        {
          "output_type": "stream",
          "text": [
            "Printing positive tweets:\n",
            "\n",
            "1) Always better to take that extra precaution. Will help you and those around you.\n",
            "\n",
            "I commend the  group for this very innovative movement. IndiaFightsCorona https://t.co/vB8twfbyii\n",
            "\n",
            "2) Outstanding gesture by the  Group. Every contribution matters and will lead to a healthier India. IndiaFightsCorona https://t.co/rZ8R4XpACz\n",
            "\n",
            "3) फिर मुस्कुराएगा इंडिया...\n",
            "\n",
            "फिर जीत जाएगा इंडिया...\n",
            "\n",
            "India will fight. India will win! \n",
            "\n",
            "Good initiative by our film fraternity. \n",
            "\n",
            "https://t.co/utUGm9ObhI\n",
            "\n",
            "4) This WorldHealthDay, let us also ensure we follow practices like social distancing which will protect our own lives as well as the lives of others. May this day also inspire us towards focusing on personal fitness through the year, which would help improve our overall health.\n",
            "\n",
            "5) Today on WorldHealthDay, let us not only pray for each other’s good health and well-being but also reaffirm our gratitude towards all those doctors, nurses, medical staff and healthcare workers who are bravely leading the battle against the COVID-19 menace. 🙏🏼\n",
            "\n",
            "6) Hang in there, Prime Minister !  Hope to see you out of hospital and in perfect health very soon.\n",
            "\n",
            "7) During the meeting, highlighted why it is important to reiterate the need for social distancing, steps to ensure well-being of our hardworking farmers, aspects relating to the PM Garib Kalyan Yojana, economic stability and popularising the Aarogya Setu App.\n",
            "\n",
            "8) Spoke on phone to PM  of Australia. We agreed to cooperate against COVID-19, including through collaborative research. PM Morrison assured me about well-being of the vibrant Indian community, including students, in Australia.\n",
            "\n",
            "9) We mark our Party’s 40th Anniversary when India is battling COVID-19. I appeal to BJP Karyakartas to follow the set of guidelines from our Party President  Ji, help those in need and reaffirm the importance of social distancing. Let’s make India COVID-19 free. BJPat40 https://t.co/8RrvuLKzWm\n",
            "\n",
            "10) Whenever  has got the opportunity to serve, the Party has focused on good governance and empowering the poor. In line with the Party’s ethos, our Karyakartas have worked hard to bring a positive difference in the lives of many and done great social service. BJPat40\n",
            "\n",
            "11) Wonderfully said. Your support is valuable  Ji. 9pm9minute https://t.co/0Ayvz99fSy\n",
            "\n",
            "12) Found this very creative video on Instagram, made by Rupin-Vasu. Let’s unite and defeat Coronavirus. 9pm9minute \n",
            "\n",
            "https://t.co/P0qw5kyc66\n",
            "\n",
            "13) Warm and thoughtful words of inspiration from Cardinal George Alencherry. The nation stands united in the face of COVID-19. 9pm9minute \n",
            "\n",
            "https://t.co/AVSEdz3Cum\n",
            "\n",
            "14) Excellently articulated by Mata  Ji. 9pm9minute https://t.co/4uNC247nWD\n",
            "\n",
            "15) Excellent message to all Indians. Light a lamp, brighten everyone else’s path. 9pm9minute https://t.co/8t5tzfb59T\n",
            "\n",
            "16) We will surely win against COVID-19. Let us further the spirit of oneness in society. \n",
            "\n",
            "9pm9minute https://t.co/RqMRFjYpJ1\n",
            "\n",
            "17) Yes we shall. By taking right precautions, diligently following social distancing we will overcome all odds. 9pm9minute https://t.co/Ke5uMiLrsl\n",
            "\n",
            "18) You’ve expressed it very well . 9pm9minute https://t.co/lYCxNiaIcp\n",
            "\n",
            "19) Wonderful initiative, ! https://t.co/MlTe90fHSX\n",
            "\n",
            "20) Very well pointed. Thank you  for the solidarity. IndiaFightsCorona https://t.co/ZCQJNAZQnA\n",
            "\n",
            "21) Outstanding gesture by . Thank you to their entire team. IndiaFightsCorona https://t.co/tU5ApDJ2EY\n",
            "\n",
            "22) Had an extensive telephone conversation with President . We had a good discussion, and agreed to deploy the full strength of the India-US partnership to fight COVID-19.\n",
            "\n",
            "23) Unity along with social distancing for a healthier India...fully agree. IndiaFightsCorona https://t.co/B0lkwXAzSq\n",
            "\n",
            "24) Thank you  and Shri Kumar Mangalam Birla for contributing to PM-CARES.\n",
            "\n",
            "No stone is being left unturned to fight COVID-19. This contribution will have a positive impact on many Indians. IndiaFightsCorona https://t.co/TMHhbowMU7\n",
            "\n",
            "25) Great to see people and institutions from various domains contribute enthusiastically to PM-CARES fund. United against every adversity! \n",
            "\n",
            "Gratitude to Team _india, Team ,  for contributing to PM-CARES.\n",
            "\n",
            "26) Absolutely! https://t.co/eTiqUQ41bD\n",
            "\n",
            "27) In times of crisis, a simple gesture of solidarity can fill so many minds with a hope and resolve. IndiaFightsCorona https://t.co/ZQIQiBndyG\n",
            "\n",
            "28) Peace, happiness, compassion in such times will be very valuable.What we will do on the 5th will further these. IndiaFightsCorona https://t.co/IYiICsp9Z5\n",
            "\n",
            "29) An outstanding gesture by Team MHA.\n",
            "\n",
            "They work round the clock to protect us and are also contributing to protecting the nation from COVID-19. IndiaFightsCorona https://t.co/vbsFOPHm7b\n",
            "\n",
            "30) Well said.\n",
            "\n",
            "Our self-discipline and responsible actions will keep us healthy and reduce risk in the lives of others. IndiaFightsCorona https://t.co/a0KwNcphYw\n",
            "\n",
            "31) Absolutely! COVID-19 can be overcome with teamwork and taking the right precautions. \n",
            "\n",
            "Let us keep following social distancing and staying indoors.  IndiaFightsCorona https://t.co/ym6mdQrX26\n",
            "\n",
            "32) Your support towards the fight against COVID-19 is greatly cherished . IndiaFightsCorona https://t.co/GwkQEh2YSO\n",
            "\n",
            "33) Thank you for being a part of today’s interaction, . Thank you also for contributing to PM-CARES. I hope you keep reaffirming the importance of remaining fit and healthy in the times to come. IndiaFightsCorona https://t.co/qgVnHkgK9i\n",
            "\n",
            "34) Very relevant message by _chanu on aspects such as fitness and following the Lockdown. IndiaFightsCorona https://t.co/QCbl6qhfuJ\n",
            "\n",
            "35) India salutes you for this gesture! \n",
            "\n",
            "Those associated with our Armed Forces have always had a rich history of contributing to India’s safety and well-being. IndiaFightsCorona https://t.co/oLHPRulAyh\n",
            "\n",
            "36) You are right Sharad. I was very happy to see the passion with which you shared your insights. Young India is doing as much as possible to battle COVID-19 and their contribution will remain essential even in the coming times. IndiaFightsCorona https://t.co/JhHHjiLJdm\n",
            "\n",
            "37) From sharing videos that reaffirm the importance of fitness, helping the poor and needy, emphasising on social distancing as well as contributing to efforts such as PM-CARES, our sportspersons are doing excellent towards making India free from COVID-19.\n",
            "\n",
            "38) Thank you _MA Ji. Your contribution adds vital strength in this extraordinary battle against COVID-19. IndiaFightsCorona https://t.co/Fqoz21Sol7\n",
            "\n",
            "39) Our scientists are blessed with remarkable intellect and compassion. They are working round the clock for India’s development and are also helping in the fight against Coronavirus. \n",
            "\n",
            "Thank you for contributing to PM-CARES. IndiaFightsCorona https://t.co/cHfE4bFrnU\n",
            "\n",
            "40) Had an extensive interaction with Chief Ministers of various states. The Centre and all the states are working in close cooperation to battle the COVID-19 menace. We are doing everything possible to ensure a healthy India. https://t.co/N05Wxu3Civ\n",
            "\n",
            "41) I urge you to have a look at the Ayush Ministry protocol, make it a part of your lives and share it with others. \n",
            "\n",
            "Let’s keep the focus on being healthy. After all, good health is the harbinger of happiness. https://t.co/fZCPFJtwi0\n",
            "\n",
            "42) Recently the Ayush Ministry came out with protocols that list out easily doable things that improve health as well as immunity. There are many things in the protocol that I myself have been diligently doing for years, such as drinking only hot water through the year.\n",
            "\n",
            "43) I am seeing a great increase in discussion on topics related to fitness, staying healthy and boosting immunity systems. This is a great sign. After MannKiBaat I also shared Yoga and Yoga Nidra videos which I hope you’ve seen.\n",
            "\n",
            "44) I thank the Honourable Judges of the Supreme Court for this exemplary and inspiring gesture. \n",
            "\n",
            "Their contribution to PM-CARES will strengthen the efforts to fight COVID-19. IndiaFightsCorona https://t.co/E4X1lsyJwY\n",
            "\n",
            "45) Great gesture. Thank you to IFFCO.  IndiaFightsCorona https://t.co/iLKYvmdTs6\n",
            "\n",
            "46) Glad to see the great momentum for PM-CARES fund on Google Pay. \n",
            "\n",
            "Let’s keep this growing for IndiaFightsCorona! https://t.co/7ZUIzrdNUI\n",
            "\n",
            "47) As IndiaFightsCorona, each contribution matters. \n",
            "\n",
            "Good to see  do their bit. https://t.co/gWkqYv3Rfe\n",
            "\n",
            "48) Thank you Mr. Lakshmi N. Mittal,  and _India for this remarkable gesture. India’s fight against COVID-19 will get lot of strength thanks to this contribution. IndiaFightsCorona https://t.co/hog7tliHsa\n",
            "\n",
            "49) Thank you ITC for the unwavering commitment to win this battle against COVID-19. Grateful for the contribution to PM-CARES. IndiaFightsCorona https://t.co/oFdt5iqzIl\n",
            "\n",
            "50) Tributes to His Holiness Dr. Sree Sree Sree Sivakumara Swamigalu on his Jayanti. His rich contribution to society continues to inspire.    \n",
            "\n",
            "ಪರಮ‌ಪೂಜ್ಯ ಡಾ. ಶ್ರೀ ಶ್ರೀ ಶ್ರೀ ಶಿವಕುಮಾರ ಸ್ವಾಮೀಜಿ ಅವರ ಜಯಂತಿ ಅಂಗವಾಗಿ ಅವರಿಗೆ ಗೌರವ ನಮನಗಳು. ಸಮಾಜಕ್ಕೆ ಸ್ವಾಮೀಜಿ ನೀಡಿರುವ ಉತ್ಕೃಷ್ಟ ಕೊಡುಗೆ ಸದಾ ಸ್ಮರಣೀಯ.\n",
            "\n",
            "51) Admirable commitment to service and national development shown by the Tata Group. I welcome their gesture of contributing to PM-CARES. Their contribution will touch the lives of many Indians. I thank  and Shri Ratan Tata Ji. IndiaFightsCorona https://t.co/RyQFzEV4a7\n",
            "\n",
            "52) Have been seeing thoughtful messages of young children contributing to PM-CARES. This is special because they are contributing from their piggy banks. We yet again see the large-heartedness of young India. IndiaFightsCorona \n",
            "\n",
            "https://t.co/FbYOKeY0TE\n",
            "\n",
            "https://t.co/J4btTCs9dN https://t.co/vVsCT954fw\n",
            "\n",
            "53) During MannKiBaat too I had interacted with those who successfully battled COVID-19. It is important to hear their experiences and learn.\n",
            "\n",
            "The right precautions matter.\n",
            "\n",
            "Follow self-discipline.\n",
            "\n",
            "Listen to what your doctor is saying. IndiaFightsCorona https://t.co/h3nquVphcV\n",
            "\n",
            "54) Every effort counts, every contribution matters. I thank leading film personalities , , , ,  for supporting PM-CARES. \n",
            "\n",
            "By being proactive and taking right precautions we have to overcome COVID-19. IndiaFightsCorona\n",
            "\n",
            "55) I salute Bharti Enterprises and Sunil Bharti Mittal Ji for the strong support in this battle against COVID-19. The humanitarian efforts of this group during this time will help many Indians. IndiaFightsCorona https://t.co/FOudv1GSjf\n",
            "\n",
            "56) The entire Reliance team has been making effective contributions in the fight against COVID-19. Be it in healthcare or assisting people, they have been active. \n",
            "\n",
            "I thank Mukesh &amp; Nita Ambani Ji for contributing to PM-CARES and for their other work towards defeating Coronavirus. https://t.co/XEcmW6eNmx\n",
            "\n",
            "57) Thank you . This gesture is very helpful. IndiaFightsCorona https://t.co/6Arpp2vtxM\n",
            "\n",
            "58) India’s stars are playing a starring role even in ensuring the health of the nation. They’re playing a leading role in raising awareness as well as in contributing to PM-CARES. Thanks , ,  and .\n",
            "\n",
            "59) Not only are the oil &amp; gas sector PSUs energising India’s growth trajectory, but they are also contributing to ensure the nation’s good health in the time of COVID-19 crisis. \n",
            "Special thanks to _ employees who have contributed 2 days’ salary to PM-CARES. \n",
            "\n",
            "60) I am very happy that our hardworking sportspersons are at the forefront of the battle to defeat COVID-19.\n",
            "\n",
            "I would like to thank _kumar01, , , _Raj03 for their contribution to PM-CARES. IndiaFightsCorona\n",
            "\n",
            "61) Whenever I get time, I practice Yoga Nidra once or twice a week. \n",
            "\n",
            "It furthers overall well-being, relaxes the mind, reduces stress and anxiety. You will find many videos of Yoga Nidra on the net. I’m sharing a video each in English and Hindi. \n",
            "\n",
            "https://t.co/oLCz3Idnro\n",
            "\n",
            "62) Interacted with heads of our Missions abroad on the COVID-19 situation. We discussed many issues including ways to combat Coronavirus and the role our Missions can play in assisting Indians abroad. https://t.co/f6tPv2cb4R\n",
            "\n",
            "63) Representatives from social organisations spoke at length about how they are working to fight Coronavirus. They are spreading awareness, emphasising on social distancing, feeding the poor and more. Their proactive efforts are laudable. IndiaFightsCorona\n",
            "\n",
            "64) Social organisations are embodiments of compassion. They have a deep-rooted connect with people and they are at the forefront of service. Their role is very important in times such as these, when we are battling the menace of COVID-19. IndiaFightsCorona\n",
            "\n",
            "65) In our country, social organisations have a very important role in ensuring positive changes in society. Today I interacted with leading social welfare organisations on ways to fight COVID-19. \n",
            "\n",
            "https://t.co/RRoppERiY8\n",
            "\n",
            "66) The Yoga videos are available in different languages. Do have a look. Happy Yoga practicing.... \n",
            "\n",
            "https://t.co/QAJM0UooRm\n",
            "\n",
            "67) I am neither a fitness expert nor a medical expert. Practising Yoga has been an integral part of my life for many years and I have found it beneficial. I am sure many of you also have other ways of remaining fit, which you also must share with others.\n",
            "\n",
            "68) India will always remember the impeccable service of Air Vice Marshal (Retd.) Chandan Singh Rathore. He was a valorous Air Warrior who contributed towards a stronger and safer India. Pained by his demise. Condolences to his family. Om Shanti.\n",
            "\n",
            "69) Thank you to the Kotak Mahindra Bank and to Mr. Uday Kotak. Their noble gesture will help so many people. IndiaFightsCorona https://t.co/M17aQPkahq\n",
            "\n",
            "70) Spending time with family. \n",
            "\n",
            "Learning new dishes.\n",
            "\n",
            "Making quilts. \n",
            "\n",
            "Connecting with old friends. \n",
            "\n",
            "Reading books. \n",
            "\n",
            "Here is how people across India are going about their routines during the Lockdown. MannKiBaat https://t.co/XpW0LWWSC4\n",
            "\n",
            "71) In these tough times, no words can do justice to outstanding work of our daily life heroes. \n",
            "\n",
            "During MannKiBaat today, saluted their stellar efforts. https://t.co/ziSKOlAUZb\n",
            "\n",
            "72) Based in Pune, Dr. Borse shared his experiences of combating the COVID-19 menace. \n",
            "\n",
            "Our doctors are not only curing patients but also playing the role of counsellors, who are keeping the morale of our patients and their families high. MannKiBaat https://t.co/CkwPSLvAEQ\n",
            "\n",
            "73) Thank you, Honourable President. \n",
            "\n",
            "Rashtrapati Ji is leading the way and inspiring the nation. IndiaFightsCorona https://t.co/QCiERMuFBW\n",
            "\n",
            "74) I am extremely proud of our industrial leaders, who are rising to the occasion and contributing towards a healthy India. \n",
            "\n",
            "Thank you to . The poorest of the poor will benefit from their remarkable gesture. IndiaFightsCorona https://t.co/YjzSiPCLpo\n",
            "\n",
            "75) Good initiative. Will empower many people to donate to PM-CARES Fund. Let us keep contributing to this cause. IndiaFightsCorona https://t.co/qxtUav5bH9\n",
            "\n",
            "76) Wonderful of you to do so Atul. IndiaFightsCorona https://t.co/AGOWA43anK\n",
            "\n",
            "77) Youngsters are at the forefront of fighting COVID-19. Gratitude to Kavya and Chaitanya. Their gesture is deeply touching. IndiaFightsCorona https://t.co/cT9hkb6NKv\n",
            "\n",
            "78) Today, I interacted with those associating with the AYUSH sector. They shared their insights on how we can overcome COVID-19. The AYUSH sector has a long contribution in keeping our nation healthy. https://t.co/y4mGvWqh5P\n",
            "\n",
            "79) Kudos to the Motilal Oswal group for this thoughtful gesture. It is heartening to see India’s corporates come together for this noble cause. IndiaFightsCorona https://t.co/lR7H95WFDd\n",
            "\n",
            "80) Every contribution matters, Shamim. Great job! IndiaFightsCorona https://t.co/YgxkXMxpaO\n",
            "\n",
            "81) Salute our brave police personnel for their gesture. IndiaFightsCorona https://t.co/5hoKiaQJSn\n",
            "\n",
            "82) Good leadership! Happy to see such strong support from the IAS fraternity. IndiaFightsCorona https://t.co/anrwvO6Kul\n",
            "\n",
            "83) This will inspire and enable a large number of Indians to donate to PM-CARES! IndiaFightsCorona https://t.co/JZa60POC90\n",
            "\n",
            "84) The future of the nation is ensuring the nation’s future. Excellent gesture, Sahil, proud of you. IndiaFightsCorona https://t.co/rpTWCp1FJH\n",
            "\n",
            "85) That’s a brilliant fifty, ! IndiaFightsCorona https://t.co/O6vY4L6Quo\n",
            "\n",
            "86) Great gesture . \n",
            "\n",
            "Let’s keep donating for a healthier India. https://t.co/3KAqzgRFOW\n",
            "\n",
            "87) The PM-CARES Fund accepts micro-donations too. It will strengthen disaster management capacities and encourage research on protecting citizens. \n",
            "\n",
            "Let us leave no stone unturned to make India healthier and more prosperous for our future generations. https://t.co/BVm7q19R52\n",
            "\n",
            "88) It is my appeal to my fellow Indians, \n",
            "\n",
            "Kindly contribute to the PM-CARES Fund. This Fund will also cater to similar distressing situations, if they occur in the times ahead. This link has all important details about the fund. \n",
            "\n",
            "https://t.co/enPvcqCTw2\n",
            "\n",
            "89) Today I had an extensive interaction with Radio Jockeys from different parts of India. Radio has a major role to play in spreading awareness on ways to fight COVID-19. I shared some ideas on how the radio can do so and also heard their innovative ideas. https://t.co/zWV17FXpEu\n",
            "\n",
            "90) Dear PM ,\n",
            "\n",
            "You’re a fighter and you will overcome this challenge as well. \n",
            "\n",
            "Prayers for your good health and best wishes in ensuring a healthy UK. https://t.co/u8VSRqsZeC\n",
            "\n",
            "91) All relevant information related to COVID-19 in your Facebook inbox from !\n",
            "\n",
            "Click on this link and stay connected. IndiaFightsCorona https://t.co/i17Dov0GGP\n",
            "\n",
            "92) Satish Gujral Ji was versatile and multifaceted. He was admired for his creativity as well as the determination with which he overcame adversity. His intellectual thirst took him far and wide yet he remained attached with his roots. Saddened by his demise. Om Shanti.\n",
            "\n",
            "93) A young girl’s message to her father. Do watch. IndiaFightsCorona https://t.co/gF7ZVNzGVb\n",
            "\n",
            "94) Joined the G20VirtualSummit earlier today. Various world leaders discussed ways to fight COVID-19. In my remarks, I spoke about the need to place health and human welfare at the top of our global priorities. Here are the highlights. https://t.co/Tt8RaWGahN\n",
            "\n",
            "95) Cheti Chand greetings to everyone, especially the Sindhi community. \n",
            "\n",
            "With the blessings of Lord Jhulelal, may everyone’s wishes be fulfilled. May there be abundance of happiness. \n",
            "\n",
            "I would specially pray for the good health and well-being of our citizens.\n",
            "\n",
            "96) Sanjay Goradia has a wise message. \n",
            "\n",
            "Those who understand Gujarati should hear it, and hopefully follow what he is saying! https://t.co/mwS7DJUAzx\n",
            "\n"
          ],
          "name": "stdout"
        }
      ]
    },
    {
      "cell_type": "code",
      "metadata": {
        "id": "5PegXReYW1Jm",
        "colab_type": "code",
        "colab": {
          "base_uri": "https://localhost:8080/",
          "height": 1000
        },
        "outputId": "6fed7388-7ad0-47b0-b734-f898ea7bf58a"
      },
      "source": [
        "# Printing negative tweets  \n",
        "print('Printing negative tweets:\\n')\n",
        "j=1\n",
        "sortedDF = df.sort_values(by=['Polarity'],ascending=False) #Sort the tweets\n",
        "for i in range(0, sortedDF.shape[0] ):\n",
        "  if( sortedDF['Analysis'][i] == 'Negative'):\n",
        "    print(str(j) + ') '+sortedDF['Tweets'][i])\n",
        "    print()\n",
        "    j=j+1"
      ],
      "execution_count": 14,
      "outputs": [
        {
          "output_type": "stream",
          "text": [
            "Printing negative tweets:\n",
            "\n",
            "1) Spoke to HM Hamad Bin Isa Al Khalifa, King of the Kingdom of Bahrain. We discussed the prevailing situation due to COVID-19 and how we can work together to fight the pandemic. Thanked him for the care extended by Bahrain towards the Indian diaspora there. \n",
            "https://t.co/V6HCFpSUsh\n",
            "\n",
            "2) Greetings to all fellow  Karyakartas on the Sthapana Diwas of the Party. Tributes to all those who have toiled hard to build the Party for decades, due to which BJP has got the opportunity to serve crores of Indians across our nation’s length and breadth. BJPat40\n",
            "\n",
            "3) Thank you  Ji. This support is extremely valuable and will further the spirit of togetherness! IndiaFightsCorona https://t.co/QSUnRLTd97\n",
            "\n",
            "4) Spoke on phone to President of the Government of Spain, H.E. Pedro Sanchez. Conveyed my deepest condolences for the tragic loss of life in Spain.  We agreed to collaborate in fighting the pandemic. \n",
            "\n",
            "5) A very passionate appeal...do have a look. IndiaFightsCorona https://t.co/NVLDgDRYH7\n",
            "\n",
            "6) Had a telephone conversation with PM . We spoke about the situation arising due to COVID-19 and ways to fight the pandemic. https://t.co/NxdEO411b9\n",
            "\n",
            "7) Everyday is crucial in the battle against COVID-19.\n",
            "\n",
            "Everyday we need to be strong.\n",
            "\n",
            "Everyday we need to be together.\n",
            "\n",
            "Everyday we need to take the right precautions. \n",
            "\n",
            "Everyday we need to be self-disciplined. IndiaFightsCorona https://t.co/EHessV8oWc\n",
            "\n",
            "8) Interacted with sportspersons via video conferencing on the situation arising due to COVID-19. Sports requires self-discipline, tenacity, teamwork and a fighting spirit. These are also required to defeat Coronavirus. IndiaFightsCorona \n",
            "\n",
            "https://t.co/OuWHisdaVX\n",
            "\n",
            "9) At 9 AM tomorrow morning, I’ll share a small video message with my fellow Indians.\n",
            "\n",
            "कल सुबह 9 बजे देशवासियों के साथ मैं एक वीडियो संदेश साझा करूंगा।\n",
            "\n",
            "10) Condolences to you and the entire family, . May his soul rest in peace. \n",
            "\n",
            "In this hour of grief, your call to avoid any large gathering is appreciable and will strengthen India’s fight against COVID-19. https://t.co/2xz814elbq\n",
            "\n",
            "11) There is no better deed than serving others. This gesture will help boost research and innovation on ways to fight COVID-19. It will help citizens and make India healthier. IndiaFightsCorona https://t.co/gAKNMa4qo4\n",
            "\n",
            "12) Practice social distancing, not emotional distancing. \n",
            "\n",
            "Do not ostracise those who are in quarantine either due to mandatory reasons or on self-imposed quarantine. \n",
            "\n",
            "Through social media or telephone, reach out to friends. Ask about their well-being. MannKiBaat https://t.co/laNpKP1xNd\n",
            "\n",
            "13) Ram is associated with the IT industry. On his return from overseas he felt feverish and sadly, he was COVID-19 positive. \n",
            "\n",
            "However, Ram followed the guidance of his doctors, stayed at home, protected himself and his family. Here is his story... MannKiBaat https://t.co/F7NAMqhWzY\n",
            "\n",
            "14) I would like to thank Shri Pradeep and Shri Pankaj Rathod of the Cello Group for contributing Rs. 3.5 crore to the PM-CARES fund. Such support from the world of commerce and industry is extremely valuable. IndiaFightsCorona\n",
            "\n",
            "15) Our airport staff has been out there, working round the clock in tough circumstances. I salute their professionalism and their noteworthy gesture of contributing to PM-CARES. IndiaFightsCorona https://t.co/YWVrOvYQdL\n",
            "\n",
            "16) Tune in tomorrow at 11. \n",
            "\n",
            "Tomorrow’s episode will be focused on the situation prevailing due to COVID-19. MannKiBaat https://t.co/wWybvdLW8k\n",
            "\n",
            "17) There’s nothing big or little. \n",
            "\n",
            "Every single contribution matters. It shows our collective resolve to defeat COVID-19. IndiaFightsCorona https://t.co/ibCnvGNIyo\n",
            "\n",
            "18) People from all walks of life expressed their desire to donate to India’s war against COVID-19. \n",
            "\n",
            "Respecting that spirit, the Prime Minister’s Citizen Assistance and Relief in Emergency Situations Fund has been constituted. This will go a long way in creating a healthier India.\n",
            "\n",
            "19) Rajyogini Dadi Janki Ji, Chief of the Brahma Kumaris, served society with diligence. She toiled to bring a positive difference in the lives of others. Her efforts towards empowering women were noteworthy. My thoughts are with her countless followers in this sad hour. Om Shanti. https://t.co/nCUwyh58f8\n",
            "\n",
            "20) It is our firm resolve that the poor and vulnerable get all possible help to cope with the testing times. The Pradhan Mantri Garib Kalyan Package will go a long way in ensuring food and livelihood security. IndiaFightsCorona\n",
            "\n",
            "https://t.co/E4DvXCV5Vs\n",
            "\n"
          ],
          "name": "stdout"
        }
      ]
    },
    {
      "cell_type": "code",
      "metadata": {
        "id": "1GAu2afLW4-U",
        "colab_type": "code",
        "colab": {
          "base_uri": "https://localhost:8080/",
          "height": 441
        },
        "outputId": "10e7b98f-db51-4428-ffcb-6c7c5dbfb1fa"
      },
      "source": [
        "# Plotting\n",
        "plt.figure(figsize=(8,6))\n",
        "for i in range(0, df.shape[0]):\n",
        " plt.scatter(df[\"Polarity\"][i], df[\"Subjectivity\"][i], color='Blue') # plt.scatter(x,y,color)\n",
        " \n",
        "plt.title('Sentiment Analysis')\n",
        "plt.xlabel('Polarity')\n",
        "plt.ylabel('Subjectivity')\n",
        "plt.show()"
      ],
      "execution_count": 15,
      "outputs": [
        {
          "output_type": "display_data",
          "data": {
            "image/png": "[encoded data removed]",
            "text/plain": [
              "<Figure size 576x432 with 1 Axes>"
            ]
          },
          "metadata": {
            "tags": []
          }
        }
      ]
    },
    {
      "cell_type": "code",
      "metadata": {
        "id": "rT6XZJRcW75Y",
        "colab_type": "code",
        "colab": {
          "base_uri": "https://localhost:8080/",
          "height": 34
        },
        "outputId": "b530bdf7-3583-4ce7-abd0-b863b3125063"
      },
      "source": [
        "# Print the percentage of positive tweets\n",
        "ptweets = df[df.Analysis == 'Positive']\n",
        "ptweets = ptweets['Tweets']\n",
        "ptweets\n",
        "\n",
        "round( (ptweets.shape[0] / df.shape[0]) * 100 , 1)"
      ],
      "execution_count": 16,
      "outputs": [
        {
          "output_type": "execute_result",
          "data": {
            "text/plain": [
              "48.0"
            ]
          },
          "metadata": {
            "tags": []
          },
          "execution_count": 16
        }
      ]
    },
    {
      "cell_type": "code",
      "metadata": {
        "id": "9hhMp0AJW-Bk",
        "colab_type": "code",
        "colab": {
          "base_uri": "https://localhost:8080/",
          "height": 34
        },
        "outputId": "7b5d95dd-c451-4cd4-80cf-67a696f8df73"
      },
      "source": [
        "# Print the percentage of negative tweets\n",
        "ntweets = df[df.Analysis == 'Negative']\n",
        "ntweets = ntweets['Tweets']\n",
        "ntweets\n",
        "\n",
        "round( (ntweets.shape[0] / df.shape[0]) * 100, 1)"
      ],
      "execution_count": 17,
      "outputs": [
        {
          "output_type": "execute_result",
          "data": {
            "text/plain": [
              "10.0"
            ]
          },
          "metadata": {
            "tags": []
          },
          "execution_count": 17
        }
      ]
    },
    {
      "cell_type": "code",
      "metadata": {
        "id": "wAiubzauXAA4",
        "colab_type": "code",
        "colab": {
          "base_uri": "https://localhost:8080/",
          "height": 87
        },
        "outputId": "261d935c-70e5-471b-9ff7-cc5f953af15c"
      },
      "source": [
        "# Show the value counts\n",
        "df['Analysis'].value_counts()"
      ],
      "execution_count": 18,
      "outputs": [
        {
          "output_type": "execute_result",
          "data": {
            "text/plain": [
              "Positive    96\n",
              "Neutral     84\n",
              "Negative    20\n",
              "Name: Analysis, dtype: int64"
            ]
          },
          "metadata": {
            "tags": []
          },
          "execution_count": 18
        }
      ]
    },
    {
      "cell_type": "code",
      "metadata": {
        "id": "ljLvO__0XD3F",
        "colab_type": "code",
        "colab": {
          "base_uri": "https://localhost:8080/",
          "height": 374
        },
        "outputId": "740f4405-3c44-4c49-c890-fbfde5091eda"
      },
      "source": [
        "# Plotting and visualizing the counts\n",
        "plt.title('Sentiment Analysis')\n",
        "plt.xlabel('Sentiment')\n",
        "plt.ylabel('Counts')\n",
        "df['Analysis'].value_counts().plot(kind = 'bar')\n",
        "plt.show()\n"
      ],
      "execution_count": 19,
      "outputs": [
        {
          "output_type": "display_data",
          "data": {
            "image/png": "[encoded data removed]",
            "text/plain": [
              "<Figure size 432x288 with 1 Axes>"
            ]
          },
          "metadata": {
            "tags": []
          }
        }
      ]
    },
    {
      "cell_type": "code",
      "metadata": {
        "id": "UGP2c-c3XHE9",
        "colab_type": "code",
        "colab": {}
      },
      "source": [
        ""
      ],
      "execution_count": 0,
      "outputs": []
    }
  ]
}